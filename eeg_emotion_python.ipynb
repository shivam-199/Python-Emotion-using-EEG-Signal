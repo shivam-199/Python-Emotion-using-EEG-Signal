{
  "nbformat": 4,
  "nbformat_minor": 0,
  "metadata": {
    "colab": {
      "name": "eeg-emotion-python.ipynb",
      "provenance": [],
      "collapsed_sections": []
    },
    "kernelspec": {
      "display_name": "Python 3",
      "name": "python3"
    }
  },
  "cells": [
    {
      "cell_type": "code",
      "metadata": {
        "id": "mHy8FWr0Jb01"
      },
      "source": [
        "import os\r\n",
        "import sys\r\n",
        "\r\n",
        "import pandas as pd\r\n",
        "import numpy as np\r\n",
        "\r\n",
        "import pywt\r\n",
        "import scipy.io as spio\r\n",
        "from scipy.stats import entropy\r\n",
        "from collections import Counter\r\n",
        "\r\n",
        "from sklearn import svm\r\n",
        "from sklearn.preprocessing import normalize\r\n",
        "from sklearn.model_selection import train_test_split\r\n",
        "from sklearn.model_selection import GridSearchCV\r\n",
        "from sklearn.svm import SVC\r\n",
        "from sklearn.metrics import classification_report\r\n",
        "\r\n",
        "import timeit"
      ],
      "execution_count": 127,
      "outputs": []
    },
    {
      "cell_type": "code",
      "metadata": {
        "id": "xA-SVLx8JrV1",
        "colab": {
          "base_uri": "https://localhost:8080/",
          "height": 90
        },
        "outputId": "7f4c850d-7761-44f4-df88-be9964df14c5"
      },
      "source": [
        "'''\r\n",
        "   Authors: Shivam Chaudhary\r\n",
        "            Centre for Brain and Cognitive Science, Indian Institute of Technology Gandhinagar \r\n",
        "   In this project we will be recognising Emotion of a Human being from EEG signal.\r\n",
        "   About the data set : The data set is called the seed data set.\r\n",
        "   It contains data of 15 people that underwent trails 15 times each thrice.\r\n",
        "\r\n",
        "           Total data items =  15 (subjects) * 15 (trials each) * 3 (sessions each)\r\n",
        "                            = 675 data items\r\n",
        "\r\n",
        "   Our project consists of 4 modules, namely : pre processing, feature extraction, feature reduction and classification,\r\n",
        "   all of which are mentioned in detail in the black book.\r\n",
        "\r\n",
        "'''"
      ],
      "execution_count": 39,
      "outputs": [
        {
          "output_type": "execute_result",
          "data": {
            "application/vnd.google.colaboratory.intrinsic+json": {
              "type": "string"
            },
            "text/plain": [
              "'\\n   Authors: Shivam Chaudhary\\n            Centre of Behavioural and Cognitive Sciences, Allahabad\\n   In this project we will be recognising Emotion of a Human being from EEG signal.\\n   About the data set : The data set is called the seed data set.\\n   It contains data of 15 people that underwent trails 15 times each thrice.\\n\\n           Total data items =  15 (subjects) * 15 (trials each) * 3 (sessions each)\\n                            = 675 data items\\n\\n   Our project consists of 4 modules, namely : pre processing, feature extraction, feature reduction and classification,\\n   all of which are mentioned in detail in the black book.\\n\\n'"
            ]
          },
          "metadata": {
            "tags": []
          },
          "execution_count": 39
        }
      ]
    },
    {
      "cell_type": "code",
      "metadata": {
        "id": "5rjOC6NHclK2"
      },
      "source": [
        "WAVELET = \"db6\"\r\n",
        "MAX_LEVEL = 5"
      ],
      "execution_count": 40,
      "outputs": []
    },
    {
      "cell_type": "code",
      "metadata": {
        "colab": {
          "base_uri": "https://localhost:8080/"
        },
        "id": "2TBRe0rNKPOW",
        "outputId": "00cf8cf1-5b36-4003-f3e1-e19557ed0f2c"
      },
      "source": [
        "# Connecting google drive\r\n",
        "from google.colab import drive\r\n",
        "drive.mount('/content/drive')\r\n",
        "#4/1AY0e-g7fln4EfIjw7IjtOGqkoh3Y0EUpKlncOdTR6o4uuu3XqPjYElTbIwo"
      ],
      "execution_count": 41,
      "outputs": [
        {
          "output_type": "stream",
          "text": [
            "Drive already mounted at /content/drive; to attempt to forcibly remount, call drive.mount(\"/content/drive\", force_remount=True).\n"
          ],
          "name": "stdout"
        }
      ]
    },
    {
      "cell_type": "code",
      "metadata": {
        "colab": {
          "base_uri": "https://localhost:8080/",
          "height": 36
        },
        "id": "3lnGMQvTJ9Pq",
        "outputId": "29a4b1b2-c61e-4af1-801a-fc54d476673e"
      },
      "source": [
        "dir = \"/content/drive/MyDrive/EEG-emotion-python/seed dataset/SEED\"\r\n",
        "os.chdir(dir)\r\n",
        "os.getcwd()"
      ],
      "execution_count": 42,
      "outputs": [
        {
          "output_type": "execute_result",
          "data": {
            "application/vnd.google.colaboratory.intrinsic+json": {
              "type": "string"
            },
            "text/plain": [
              "'/content/drive/MyDrive/EEG-emotion-python/seed dataset/SEED'"
            ]
          },
          "metadata": {
            "tags": []
          },
          "execution_count": 42
        }
      ]
    },
    {
      "cell_type": "code",
      "metadata": {
        "id": "OieGOhu9Mp-H"
      },
      "source": [
        "# Unzip the data file\r\n",
        "# # Do only once\r\n",
        "# import zipfile\r\n",
        "# with zipfile.ZipFile(\"ExtractedFeatures.zip\", 'r') as zip_ref:\r\n",
        "#     zip_ref.extractall(os.getcwd() + \"/temp\")\r\n",
        "# !unzip -u \"/content/drive/MyDrive/EEG-emotion-python/seed dataset/SEED/Preprocessed_EEG.zip\" -d \"/content/drive/MyDrive/EEG-emotion-python/seed dataset/SEED/temp\""
      ],
      "execution_count": null,
      "outputs": []
    },
    {
      "cell_type": "code",
      "metadata": {
        "colab": {
          "base_uri": "https://localhost:8080/",
          "height": 206
        },
        "id": "lvo7MF4OLVf_",
        "outputId": "f9bda06c-50d4-48db-bdaa-b990c4f984e8"
      },
      "source": [
        "# reading the channel order for dataframe\r\n",
        "channel_order = pd.read_excel(\"Channel Order.xlsx\", header=None)\r\n",
        "channel_order.head()"
      ],
      "execution_count": 43,
      "outputs": [
        {
          "output_type": "execute_result",
          "data": {
            "text/html": [
              "<div>\n",
              "<style scoped>\n",
              "    .dataframe tbody tr th:only-of-type {\n",
              "        vertical-align: middle;\n",
              "    }\n",
              "\n",
              "    .dataframe tbody tr th {\n",
              "        vertical-align: top;\n",
              "    }\n",
              "\n",
              "    .dataframe thead th {\n",
              "        text-align: right;\n",
              "    }\n",
              "</style>\n",
              "<table border=\"1\" class=\"dataframe\">\n",
              "  <thead>\n",
              "    <tr style=\"text-align: right;\">\n",
              "      <th></th>\n",
              "      <th>0</th>\n",
              "    </tr>\n",
              "  </thead>\n",
              "  <tbody>\n",
              "    <tr>\n",
              "      <th>0</th>\n",
              "      <td>FP1</td>\n",
              "    </tr>\n",
              "    <tr>\n",
              "      <th>1</th>\n",
              "      <td>FPZ</td>\n",
              "    </tr>\n",
              "    <tr>\n",
              "      <th>2</th>\n",
              "      <td>FP2</td>\n",
              "    </tr>\n",
              "    <tr>\n",
              "      <th>3</th>\n",
              "      <td>AF3</td>\n",
              "    </tr>\n",
              "    <tr>\n",
              "      <th>4</th>\n",
              "      <td>AF4</td>\n",
              "    </tr>\n",
              "  </tbody>\n",
              "</table>\n",
              "</div>"
            ],
            "text/plain": [
              "     0\n",
              "0  FP1\n",
              "1  FPZ\n",
              "2  FP2\n",
              "3  AF3\n",
              "4  AF4"
            ]
          },
          "metadata": {
            "tags": []
          },
          "execution_count": 43
        }
      ]
    },
    {
      "cell_type": "code",
      "metadata": {
        "colab": {
          "base_uri": "https://localhost:8080/",
          "height": 206
        },
        "id": "teYc7UyCLx0g",
        "outputId": "4b7b1667-37ea-4974-aa3f-53733e888068"
      },
      "source": [
        "# extract labels file\r\n",
        "labels = spio.loadmat(\"label.mat\")\r\n",
        "labels_df = pd.DataFrame(np.hstack(labels[\"label\"]))\r\n",
        "labels_df.head()"
      ],
      "execution_count": 44,
      "outputs": [
        {
          "output_type": "execute_result",
          "data": {
            "text/html": [
              "<div>\n",
              "<style scoped>\n",
              "    .dataframe tbody tr th:only-of-type {\n",
              "        vertical-align: middle;\n",
              "    }\n",
              "\n",
              "    .dataframe tbody tr th {\n",
              "        vertical-align: top;\n",
              "    }\n",
              "\n",
              "    .dataframe thead th {\n",
              "        text-align: right;\n",
              "    }\n",
              "</style>\n",
              "<table border=\"1\" class=\"dataframe\">\n",
              "  <thead>\n",
              "    <tr style=\"text-align: right;\">\n",
              "      <th></th>\n",
              "      <th>0</th>\n",
              "    </tr>\n",
              "  </thead>\n",
              "  <tbody>\n",
              "    <tr>\n",
              "      <th>0</th>\n",
              "      <td>1</td>\n",
              "    </tr>\n",
              "    <tr>\n",
              "      <th>1</th>\n",
              "      <td>0</td>\n",
              "    </tr>\n",
              "    <tr>\n",
              "      <th>2</th>\n",
              "      <td>-1</td>\n",
              "    </tr>\n",
              "    <tr>\n",
              "      <th>3</th>\n",
              "      <td>-1</td>\n",
              "    </tr>\n",
              "    <tr>\n",
              "      <th>4</th>\n",
              "      <td>0</td>\n",
              "    </tr>\n",
              "  </tbody>\n",
              "</table>\n",
              "</div>"
            ],
            "text/plain": [
              "   0\n",
              "0  1\n",
              "1  0\n",
              "2 -1\n",
              "3 -1\n",
              "4  0"
            ]
          },
          "metadata": {
            "tags": []
          },
          "execution_count": 44
        }
      ]
    },
    {
      "cell_type": "code",
      "metadata": {
        "colab": {
          "base_uri": "https://localhost:8080/"
        },
        "id": "Ut2BbwkwPx8n",
        "outputId": "3381b2c6-30b8-4c09-b7d8-f69675646f0c"
      },
      "source": [
        "files = os.listdir(\"temp/Preprocessed_EEG/\")\r\n",
        "files"
      ],
      "execution_count": 45,
      "outputs": [
        {
          "output_type": "execute_result",
          "data": {
            "text/plain": [
              "['2_20140404.mat',\n",
              " '1_20131030.mat',\n",
              " '1_20131107.mat',\n",
              " '3_20140603.mat',\n",
              " '3_20140611.mat',\n",
              " '2_20140419.mat',\n",
              " '2_20140413.mat',\n",
              " '3_20140629.mat',\n",
              " '4_20140705.mat',\n",
              " '4_20140702.mat',\n",
              " '4_20140621.mat',\n",
              " '5_20140506.mat',\n",
              " '5_20140418.mat',\n",
              " '6_20131113.mat',\n",
              " '5_20140411.mat',\n",
              " '6_20131016.mat',\n",
              " '6_20130712.mat',\n",
              " '7_20131106.mat',\n",
              " '7_20131027.mat',\n",
              " '7_20131030.mat',\n",
              " '8_20140521.mat',\n",
              " '8_20140514.mat',\n",
              " '8_20140511.mat',\n",
              " '9_20140620.mat',\n",
              " '9_20140627.mat',\n",
              " '9_20140704.mat',\n",
              " '10_20131211.mat',\n",
              " '10_20131130.mat',\n",
              " '10_20131204.mat',\n",
              " '11_20140618.mat',\n",
              " '11_20140625.mat',\n",
              " '11_20140630.mat',\n",
              " '12_20131207.mat',\n",
              " '12_20131201.mat',\n",
              " '13_20140603.mat',\n",
              " '13_20140610.mat',\n",
              " '13_20140527.mat',\n",
              " '12_20131127.mat',\n",
              " '14_20140601.mat',\n",
              " '15_20131016.mat',\n",
              " '15_20131105.mat',\n",
              " '14_20140615.mat',\n",
              " '14_20140627.mat',\n",
              " '15_20130709.mat']"
            ]
          },
          "metadata": {
            "tags": []
          },
          "execution_count": 45
        }
      ]
    },
    {
      "cell_type": "markdown",
      "metadata": {
        "id": "Ssmr7iiPdWvg"
      },
      "source": [
        "**Feature extraction**"
      ]
    },
    {
      "cell_type": "code",
      "metadata": {
        "id": "Bnv8OiNcYV8S"
      },
      "source": [
        "def calc_wavelet_energy(data_set):\r\n",
        "  \"\"\"\r\n",
        "    Input : 1 * N vector\r\n",
        "    Output: Float with the wavelet energy of the input vector,\r\n",
        "    rounded to 3 decimal places.\r\n",
        "  \"\"\"\r\n",
        "  # p_sqr = [i ** 2 for i in data_set]\r\n",
        "  wavelet_energy = np.nansum(np.log2(np.square(data_set)))\r\n",
        "  return round(wavelet_energy, 3)"
      ],
      "execution_count": 46,
      "outputs": []
    },
    {
      "cell_type": "code",
      "metadata": {
        "id": "McEczAds0hn5"
      },
      "source": [
        "    def calc_shannon_entropy(data_set):\r\n",
        "        \"\"\"\r\n",
        "            Input : 1 * N vector\r\n",
        "            Output: Float with the wavelet entropy of the input vector,\r\n",
        "                    rounded to 3 decimal places.\r\n",
        "        \"\"\"\r\n",
        "        # probability = [i ** 2 for i in data_set]\r\n",
        "        probability = np.square(data_set)\r\n",
        "        shannon_entropy = -np.nansum(probability * np.log2(probability))\r\n",
        "        return round(shannon_entropy, 3)"
      ],
      "execution_count": 47,
      "outputs": []
    },
    {
      "cell_type": "code",
      "metadata": {
        "id": "AWNg43Z3XXwP"
      },
      "source": [
        "participant_trial = []\r\n",
        "features_table = pd.DataFrame(columns=range(620))\r\n",
        "for file in files:\r\n",
        "  mat_file = spio.loadmat(\"temp/Preprocessed_EEG/\" + file)\r\n",
        "  keys = [key for key, values in mat_file.items() if key != '__header__' and key != '__version__' and key != '__globals__' ]\r\n",
        "  for data_file in keys:\r\n",
        "    data_df = pd.DataFrame(mat_file[data_file])\r\n",
        "    # print(data_df)\r\n",
        "    M = data_df.shape[0]\r\n",
        "    N = data_df.shape[1]\r\n",
        "    # Feature extraction part of the module\r\n",
        "    Entropy = []\r\n",
        "    Energy = []\r\n",
        "    for channel in data_df.iterrows():  # Iterating through the 62 channels\r\n",
        "      dwt_bands = []\r\n",
        "      data = channel[1]\r\n",
        "      int_ent = []\r\n",
        "      int_eng = []\r\n",
        "      for band in range(MAX_LEVEL):\r\n",
        "        (data, coeff_d) = pywt.dwt(data, WAVELET)\r\n",
        "        dwt_bands.append(coeff_d)\r\n",
        "      \r\n",
        "      for band in range(len(dwt_bands)):  # DWT_bands = 23504, 11755\r\n",
        "        int_ent.append(calc_shannon_entropy(dwt_bands[len(dwt_bands) - band - 1]))\r\n",
        "        int_eng.append(calc_wavelet_energy(dwt_bands[len(dwt_bands) - band - 1]))\r\n",
        "      \r\n",
        "      Entropy.append(int_ent)\r\n",
        "      Energy.append(int_eng)\r\n",
        "    \r\n",
        "    unroll_entropy = []\r\n",
        "    unroll_energy = []\r\n",
        "    '''\r\n",
        "        Transforming 2D array into 1D vector of features and then \r\n",
        "        combining the two 1D arrays.\r\n",
        "    '''\r\n",
        "    for i in range(len(Entropy)):\r\n",
        "      for j in range(len(Entropy[0])):\r\n",
        "        unroll_entropy.append(Entropy[i][j])\r\n",
        "        unroll_energy.append(Energy[i][j])\r\n",
        "\r\n",
        "    features = unroll_entropy + unroll_energy\r\n",
        "    participant_trial.append(features)\r\n",
        "    features_table.loc[len(features_table.index)] = features\r\n",
        "    # print(data_file)\r\n",
        "    # print(features)\r\n",
        "  print(file)\r\n"
      ],
      "execution_count": null,
      "outputs": []
    },
    {
      "cell_type": "code",
      "metadata": {
        "id": "LlIb4wqid8TX"
      },
      "source": [
        "file_dir = dir + \"/temp/analysis/\""
      ],
      "execution_count": 63,
      "outputs": []
    },
    {
      "cell_type": "code",
      "metadata": {
        "id": "L3mY47GX-tgW"
      },
      "source": [
        "features_table.to_csv(file_dir + \"features\" + WAVELET + \".csv\", index=False)"
      ],
      "execution_count": 60,
      "outputs": []
    },
    {
      "cell_type": "markdown",
      "metadata": {
        "id": "JreZ9rFodcEn"
      },
      "source": [
        "**Principal Components Analysis**"
      ]
    },
    {
      "cell_type": "code",
      "metadata": {
        "id": "w32UIkImbd1o"
      },
      "source": [
        "data = pd.read_csv(file_dir + \"features\" + WAVELET + \".csv\")"
      ],
      "execution_count": 64,
      "outputs": []
    },
    {
      "cell_type": "code",
      "metadata": {
        "colab": {
          "base_uri": "https://localhost:8080/",
          "height": 255
        },
        "id": "h10DXrmcezSJ",
        "outputId": "7584a4dd-778d-4a39-9936-c88249b73923"
      },
      "source": [
        "# 1. Normalising data and getting transpose\r\n",
        "normalised = pd.DataFrame(normalize(data, axis = 0))\r\n",
        "\r\n",
        "# 2. Finding covariance matrix\r\n",
        "covariance_df = normalised.cov()\r\n",
        "\r\n",
        "# 3. Eigen Vectors\r\n",
        "u, s, v = np.linalg.svd(covariance_df)\r\n",
        "\r\n",
        "# 4. Principal Components\r\n",
        "data_reduced = normalised @ u\r\n",
        "data_reduced.head()"
      ],
      "execution_count": 101,
      "outputs": [
        {
          "output_type": "execute_result",
          "data": {
            "text/html": [
              "<div>\n",
              "<style scoped>\n",
              "    .dataframe tbody tr th:only-of-type {\n",
              "        vertical-align: middle;\n",
              "    }\n",
              "\n",
              "    .dataframe tbody tr th {\n",
              "        vertical-align: top;\n",
              "    }\n",
              "\n",
              "    .dataframe thead th {\n",
              "        text-align: right;\n",
              "    }\n",
              "</style>\n",
              "<table border=\"1\" class=\"dataframe\">\n",
              "  <thead>\n",
              "    <tr style=\"text-align: right;\">\n",
              "      <th></th>\n",
              "      <th>0</th>\n",
              "      <th>1</th>\n",
              "      <th>2</th>\n",
              "      <th>3</th>\n",
              "      <th>4</th>\n",
              "      <th>5</th>\n",
              "      <th>6</th>\n",
              "      <th>7</th>\n",
              "      <th>8</th>\n",
              "      <th>9</th>\n",
              "      <th>10</th>\n",
              "      <th>11</th>\n",
              "      <th>12</th>\n",
              "      <th>13</th>\n",
              "      <th>14</th>\n",
              "      <th>15</th>\n",
              "      <th>16</th>\n",
              "      <th>17</th>\n",
              "      <th>18</th>\n",
              "      <th>19</th>\n",
              "      <th>20</th>\n",
              "      <th>21</th>\n",
              "      <th>22</th>\n",
              "      <th>23</th>\n",
              "      <th>24</th>\n",
              "      <th>25</th>\n",
              "      <th>26</th>\n",
              "      <th>27</th>\n",
              "      <th>28</th>\n",
              "      <th>29</th>\n",
              "      <th>30</th>\n",
              "      <th>31</th>\n",
              "      <th>32</th>\n",
              "      <th>33</th>\n",
              "      <th>34</th>\n",
              "      <th>35</th>\n",
              "      <th>36</th>\n",
              "      <th>37</th>\n",
              "      <th>38</th>\n",
              "      <th>39</th>\n",
              "      <th>...</th>\n",
              "      <th>580</th>\n",
              "      <th>581</th>\n",
              "      <th>582</th>\n",
              "      <th>583</th>\n",
              "      <th>584</th>\n",
              "      <th>585</th>\n",
              "      <th>586</th>\n",
              "      <th>587</th>\n",
              "      <th>588</th>\n",
              "      <th>589</th>\n",
              "      <th>590</th>\n",
              "      <th>591</th>\n",
              "      <th>592</th>\n",
              "      <th>593</th>\n",
              "      <th>594</th>\n",
              "      <th>595</th>\n",
              "      <th>596</th>\n",
              "      <th>597</th>\n",
              "      <th>598</th>\n",
              "      <th>599</th>\n",
              "      <th>600</th>\n",
              "      <th>601</th>\n",
              "      <th>602</th>\n",
              "      <th>603</th>\n",
              "      <th>604</th>\n",
              "      <th>605</th>\n",
              "      <th>606</th>\n",
              "      <th>607</th>\n",
              "      <th>608</th>\n",
              "      <th>609</th>\n",
              "      <th>610</th>\n",
              "      <th>611</th>\n",
              "      <th>612</th>\n",
              "      <th>613</th>\n",
              "      <th>614</th>\n",
              "      <th>615</th>\n",
              "      <th>616</th>\n",
              "      <th>617</th>\n",
              "      <th>618</th>\n",
              "      <th>619</th>\n",
              "    </tr>\n",
              "  </thead>\n",
              "  <tbody>\n",
              "    <tr>\n",
              "      <th>0</th>\n",
              "      <td>0.097817</td>\n",
              "      <td>0.130165</td>\n",
              "      <td>0.069822</td>\n",
              "      <td>-0.339419</td>\n",
              "      <td>0.012962</td>\n",
              "      <td>0.022875</td>\n",
              "      <td>0.032319</td>\n",
              "      <td>0.154534</td>\n",
              "      <td>0.035682</td>\n",
              "      <td>0.005306</td>\n",
              "      <td>-0.063540</td>\n",
              "      <td>-0.102065</td>\n",
              "      <td>0.086618</td>\n",
              "      <td>-0.008909</td>\n",
              "      <td>-0.099754</td>\n",
              "      <td>0.011716</td>\n",
              "      <td>-0.068401</td>\n",
              "      <td>-0.072563</td>\n",
              "      <td>0.017964</td>\n",
              "      <td>-0.005755</td>\n",
              "      <td>0.082702</td>\n",
              "      <td>0.099630</td>\n",
              "      <td>0.121874</td>\n",
              "      <td>0.025797</td>\n",
              "      <td>0.029660</td>\n",
              "      <td>0.009870</td>\n",
              "      <td>0.134024</td>\n",
              "      <td>-0.091542</td>\n",
              "      <td>0.047139</td>\n",
              "      <td>0.029237</td>\n",
              "      <td>0.042781</td>\n",
              "      <td>-0.112607</td>\n",
              "      <td>-0.017711</td>\n",
              "      <td>-0.050721</td>\n",
              "      <td>0.176584</td>\n",
              "      <td>-0.003242</td>\n",
              "      <td>0.045504</td>\n",
              "      <td>-0.097517</td>\n",
              "      <td>-0.068512</td>\n",
              "      <td>-0.044981</td>\n",
              "      <td>...</td>\n",
              "      <td>0.000009</td>\n",
              "      <td>1.862270e-07</td>\n",
              "      <td>-0.000016</td>\n",
              "      <td>-0.000013</td>\n",
              "      <td>-0.000002</td>\n",
              "      <td>0.000008</td>\n",
              "      <td>9.287625e-07</td>\n",
              "      <td>0.000001</td>\n",
              "      <td>2.044501e-07</td>\n",
              "      <td>-0.000006</td>\n",
              "      <td>3.825408e-07</td>\n",
              "      <td>-5.865877e-07</td>\n",
              "      <td>-3.348752e-07</td>\n",
              "      <td>3.027798e-07</td>\n",
              "      <td>1.279925e-07</td>\n",
              "      <td>0.000001</td>\n",
              "      <td>-1.216881e-06</td>\n",
              "      <td>3.886670e-07</td>\n",
              "      <td>-6.618711e-07</td>\n",
              "      <td>7.504141e-07</td>\n",
              "      <td>4.407065e-08</td>\n",
              "      <td>-4.451369e-07</td>\n",
              "      <td>1.713568e-07</td>\n",
              "      <td>1.621219e-07</td>\n",
              "      <td>3.818677e-07</td>\n",
              "      <td>4.691840e-08</td>\n",
              "      <td>-4.667070e-08</td>\n",
              "      <td>-1.047121e-07</td>\n",
              "      <td>1.437236e-07</td>\n",
              "      <td>1.539457e-07</td>\n",
              "      <td>-2.098129e-08</td>\n",
              "      <td>-5.612988e-08</td>\n",
              "      <td>3.211213e-08</td>\n",
              "      <td>-4.723769e-08</td>\n",
              "      <td>4.073753e-09</td>\n",
              "      <td>4.360708e-08</td>\n",
              "      <td>-7.719521e-08</td>\n",
              "      <td>-1.279139e-08</td>\n",
              "      <td>1.840980e-08</td>\n",
              "      <td>-2.671326e-08</td>\n",
              "    </tr>\n",
              "    <tr>\n",
              "      <th>1</th>\n",
              "      <td>0.079130</td>\n",
              "      <td>0.107703</td>\n",
              "      <td>0.013614</td>\n",
              "      <td>-0.323700</td>\n",
              "      <td>0.005515</td>\n",
              "      <td>0.015283</td>\n",
              "      <td>0.045864</td>\n",
              "      <td>0.142307</td>\n",
              "      <td>0.047709</td>\n",
              "      <td>0.004523</td>\n",
              "      <td>-0.064133</td>\n",
              "      <td>-0.093897</td>\n",
              "      <td>0.073178</td>\n",
              "      <td>-0.009482</td>\n",
              "      <td>-0.094226</td>\n",
              "      <td>0.000710</td>\n",
              "      <td>-0.050410</td>\n",
              "      <td>-0.068250</td>\n",
              "      <td>0.021639</td>\n",
              "      <td>-0.003977</td>\n",
              "      <td>0.076888</td>\n",
              "      <td>0.088081</td>\n",
              "      <td>0.117455</td>\n",
              "      <td>0.017890</td>\n",
              "      <td>0.024536</td>\n",
              "      <td>0.014868</td>\n",
              "      <td>0.114364</td>\n",
              "      <td>-0.088827</td>\n",
              "      <td>0.034160</td>\n",
              "      <td>0.028324</td>\n",
              "      <td>0.048997</td>\n",
              "      <td>-0.091660</td>\n",
              "      <td>-0.030368</td>\n",
              "      <td>-0.049431</td>\n",
              "      <td>0.159302</td>\n",
              "      <td>-0.001226</td>\n",
              "      <td>0.051240</td>\n",
              "      <td>-0.097318</td>\n",
              "      <td>-0.065109</td>\n",
              "      <td>-0.037735</td>\n",
              "      <td>...</td>\n",
              "      <td>0.000001</td>\n",
              "      <td>-2.432004e-06</td>\n",
              "      <td>-0.000016</td>\n",
              "      <td>-0.000011</td>\n",
              "      <td>-0.000003</td>\n",
              "      <td>0.000008</td>\n",
              "      <td>1.278023e-06</td>\n",
              "      <td>0.000002</td>\n",
              "      <td>2.228182e-06</td>\n",
              "      <td>-0.000006</td>\n",
              "      <td>1.297098e-06</td>\n",
              "      <td>-7.741014e-07</td>\n",
              "      <td>-3.410565e-07</td>\n",
              "      <td>-1.614335e-07</td>\n",
              "      <td>4.022831e-07</td>\n",
              "      <td>0.000001</td>\n",
              "      <td>-8.737522e-07</td>\n",
              "      <td>3.870899e-07</td>\n",
              "      <td>-4.521406e-07</td>\n",
              "      <td>6.239186e-07</td>\n",
              "      <td>2.837787e-08</td>\n",
              "      <td>-3.984898e-07</td>\n",
              "      <td>2.103950e-07</td>\n",
              "      <td>7.799253e-08</td>\n",
              "      <td>4.492663e-07</td>\n",
              "      <td>9.704270e-08</td>\n",
              "      <td>-7.896122e-08</td>\n",
              "      <td>-9.481077e-08</td>\n",
              "      <td>1.457714e-07</td>\n",
              "      <td>1.835170e-07</td>\n",
              "      <td>-6.724168e-08</td>\n",
              "      <td>-9.023388e-08</td>\n",
              "      <td>3.039570e-08</td>\n",
              "      <td>-2.052639e-08</td>\n",
              "      <td>-9.275702e-09</td>\n",
              "      <td>3.880146e-08</td>\n",
              "      <td>-8.299719e-08</td>\n",
              "      <td>-5.382707e-09</td>\n",
              "      <td>1.842500e-08</td>\n",
              "      <td>-3.027882e-08</td>\n",
              "    </tr>\n",
              "    <tr>\n",
              "      <th>2</th>\n",
              "      <td>0.088409</td>\n",
              "      <td>0.118777</td>\n",
              "      <td>0.089460</td>\n",
              "      <td>-0.286453</td>\n",
              "      <td>0.008892</td>\n",
              "      <td>0.020814</td>\n",
              "      <td>0.014377</td>\n",
              "      <td>0.147221</td>\n",
              "      <td>0.029138</td>\n",
              "      <td>0.000999</td>\n",
              "      <td>-0.051779</td>\n",
              "      <td>-0.074488</td>\n",
              "      <td>0.067087</td>\n",
              "      <td>-0.006247</td>\n",
              "      <td>-0.075656</td>\n",
              "      <td>0.008401</td>\n",
              "      <td>-0.052398</td>\n",
              "      <td>-0.066528</td>\n",
              "      <td>0.020673</td>\n",
              "      <td>0.002985</td>\n",
              "      <td>0.060274</td>\n",
              "      <td>0.084171</td>\n",
              "      <td>0.109292</td>\n",
              "      <td>0.020673</td>\n",
              "      <td>0.027263</td>\n",
              "      <td>0.015637</td>\n",
              "      <td>0.112860</td>\n",
              "      <td>-0.074215</td>\n",
              "      <td>0.039390</td>\n",
              "      <td>0.023140</td>\n",
              "      <td>0.054142</td>\n",
              "      <td>-0.095459</td>\n",
              "      <td>-0.013652</td>\n",
              "      <td>-0.055456</td>\n",
              "      <td>0.135946</td>\n",
              "      <td>-0.008320</td>\n",
              "      <td>0.040155</td>\n",
              "      <td>-0.075728</td>\n",
              "      <td>-0.054987</td>\n",
              "      <td>-0.025159</td>\n",
              "      <td>...</td>\n",
              "      <td>0.000004</td>\n",
              "      <td>-9.948690e-07</td>\n",
              "      <td>-0.000014</td>\n",
              "      <td>-0.000012</td>\n",
              "      <td>-0.000003</td>\n",
              "      <td>0.000009</td>\n",
              "      <td>1.189258e-06</td>\n",
              "      <td>0.000001</td>\n",
              "      <td>1.448787e-06</td>\n",
              "      <td>-0.000005</td>\n",
              "      <td>8.777831e-07</td>\n",
              "      <td>-5.567351e-07</td>\n",
              "      <td>-2.543641e-07</td>\n",
              "      <td>1.289873e-07</td>\n",
              "      <td>1.330648e-07</td>\n",
              "      <td>0.000001</td>\n",
              "      <td>-1.041733e-06</td>\n",
              "      <td>4.109182e-07</td>\n",
              "      <td>-6.141837e-07</td>\n",
              "      <td>6.911247e-07</td>\n",
              "      <td>-4.150120e-08</td>\n",
              "      <td>-4.874300e-07</td>\n",
              "      <td>2.016586e-07</td>\n",
              "      <td>1.082429e-07</td>\n",
              "      <td>4.237289e-07</td>\n",
              "      <td>9.627468e-08</td>\n",
              "      <td>-5.019041e-08</td>\n",
              "      <td>-1.015426e-07</td>\n",
              "      <td>1.195451e-07</td>\n",
              "      <td>1.916321e-07</td>\n",
              "      <td>-3.923679e-08</td>\n",
              "      <td>-6.696104e-08</td>\n",
              "      <td>3.048998e-08</td>\n",
              "      <td>-3.824638e-08</td>\n",
              "      <td>-4.436387e-09</td>\n",
              "      <td>4.483001e-08</td>\n",
              "      <td>-8.183916e-08</td>\n",
              "      <td>-1.037805e-08</td>\n",
              "      <td>2.075966e-08</td>\n",
              "      <td>-3.009659e-08</td>\n",
              "    </tr>\n",
              "    <tr>\n",
              "      <th>3</th>\n",
              "      <td>0.089270</td>\n",
              "      <td>0.120594</td>\n",
              "      <td>0.047669</td>\n",
              "      <td>-0.318960</td>\n",
              "      <td>0.012963</td>\n",
              "      <td>0.019192</td>\n",
              "      <td>0.046841</td>\n",
              "      <td>0.154494</td>\n",
              "      <td>0.034705</td>\n",
              "      <td>0.000030</td>\n",
              "      <td>-0.060654</td>\n",
              "      <td>-0.093238</td>\n",
              "      <td>0.075378</td>\n",
              "      <td>-0.007603</td>\n",
              "      <td>-0.087917</td>\n",
              "      <td>0.001959</td>\n",
              "      <td>-0.049254</td>\n",
              "      <td>-0.079916</td>\n",
              "      <td>0.022041</td>\n",
              "      <td>0.008019</td>\n",
              "      <td>0.077830</td>\n",
              "      <td>0.087366</td>\n",
              "      <td>0.126025</td>\n",
              "      <td>0.012981</td>\n",
              "      <td>0.021779</td>\n",
              "      <td>0.019520</td>\n",
              "      <td>0.122227</td>\n",
              "      <td>-0.099641</td>\n",
              "      <td>0.050041</td>\n",
              "      <td>0.010458</td>\n",
              "      <td>0.063402</td>\n",
              "      <td>-0.098252</td>\n",
              "      <td>-0.033244</td>\n",
              "      <td>-0.050116</td>\n",
              "      <td>0.151246</td>\n",
              "      <td>0.003756</td>\n",
              "      <td>0.053185</td>\n",
              "      <td>-0.095541</td>\n",
              "      <td>-0.069392</td>\n",
              "      <td>-0.033584</td>\n",
              "      <td>...</td>\n",
              "      <td>0.000006</td>\n",
              "      <td>1.539661e-06</td>\n",
              "      <td>-0.000017</td>\n",
              "      <td>-0.000012</td>\n",
              "      <td>-0.000006</td>\n",
              "      <td>0.000008</td>\n",
              "      <td>1.530125e-07</td>\n",
              "      <td>0.000002</td>\n",
              "      <td>8.928652e-07</td>\n",
              "      <td>-0.000005</td>\n",
              "      <td>4.475700e-07</td>\n",
              "      <td>-6.172040e-07</td>\n",
              "      <td>2.534976e-07</td>\n",
              "      <td>-9.811037e-08</td>\n",
              "      <td>8.963929e-08</td>\n",
              "      <td>0.000001</td>\n",
              "      <td>-7.367891e-07</td>\n",
              "      <td>5.555980e-07</td>\n",
              "      <td>-7.257258e-07</td>\n",
              "      <td>6.343024e-07</td>\n",
              "      <td>1.047278e-07</td>\n",
              "      <td>-3.759031e-07</td>\n",
              "      <td>2.353655e-07</td>\n",
              "      <td>1.287926e-07</td>\n",
              "      <td>4.991714e-07</td>\n",
              "      <td>3.138122e-08</td>\n",
              "      <td>4.562266e-08</td>\n",
              "      <td>-1.862962e-07</td>\n",
              "      <td>1.022220e-07</td>\n",
              "      <td>2.629627e-07</td>\n",
              "      <td>-6.193438e-08</td>\n",
              "      <td>-7.203549e-08</td>\n",
              "      <td>3.924766e-08</td>\n",
              "      <td>-2.518006e-08</td>\n",
              "      <td>3.521498e-09</td>\n",
              "      <td>2.864041e-08</td>\n",
              "      <td>-7.464052e-08</td>\n",
              "      <td>-7.413186e-09</td>\n",
              "      <td>1.996893e-08</td>\n",
              "      <td>-3.272369e-08</td>\n",
              "    </tr>\n",
              "    <tr>\n",
              "      <th>4</th>\n",
              "      <td>0.578583</td>\n",
              "      <td>0.076831</td>\n",
              "      <td>0.016236</td>\n",
              "      <td>-0.230923</td>\n",
              "      <td>-0.222639</td>\n",
              "      <td>-0.038365</td>\n",
              "      <td>0.126182</td>\n",
              "      <td>0.150741</td>\n",
              "      <td>0.017501</td>\n",
              "      <td>-0.008049</td>\n",
              "      <td>-0.046198</td>\n",
              "      <td>-0.098680</td>\n",
              "      <td>0.065333</td>\n",
              "      <td>-0.012777</td>\n",
              "      <td>-0.090030</td>\n",
              "      <td>-0.044711</td>\n",
              "      <td>-0.069119</td>\n",
              "      <td>-0.067042</td>\n",
              "      <td>0.041172</td>\n",
              "      <td>-0.021609</td>\n",
              "      <td>0.074078</td>\n",
              "      <td>0.085064</td>\n",
              "      <td>0.094152</td>\n",
              "      <td>0.032143</td>\n",
              "      <td>0.056237</td>\n",
              "      <td>-0.029938</td>\n",
              "      <td>0.042653</td>\n",
              "      <td>-0.110838</td>\n",
              "      <td>0.011368</td>\n",
              "      <td>-0.007524</td>\n",
              "      <td>0.058345</td>\n",
              "      <td>-0.157110</td>\n",
              "      <td>-0.026012</td>\n",
              "      <td>-0.074466</td>\n",
              "      <td>0.086068</td>\n",
              "      <td>0.031457</td>\n",
              "      <td>0.015314</td>\n",
              "      <td>-0.093344</td>\n",
              "      <td>-0.077370</td>\n",
              "      <td>-0.030921</td>\n",
              "      <td>...</td>\n",
              "      <td>0.000006</td>\n",
              "      <td>5.356580e-07</td>\n",
              "      <td>-0.000015</td>\n",
              "      <td>-0.000012</td>\n",
              "      <td>-0.000003</td>\n",
              "      <td>0.000007</td>\n",
              "      <td>1.467248e-06</td>\n",
              "      <td>0.000001</td>\n",
              "      <td>1.231290e-06</td>\n",
              "      <td>-0.000006</td>\n",
              "      <td>7.304807e-07</td>\n",
              "      <td>-7.374172e-07</td>\n",
              "      <td>-1.559129e-07</td>\n",
              "      <td>8.989781e-08</td>\n",
              "      <td>1.324989e-07</td>\n",
              "      <td>0.000001</td>\n",
              "      <td>-9.338416e-07</td>\n",
              "      <td>4.267613e-07</td>\n",
              "      <td>-6.008731e-07</td>\n",
              "      <td>6.108701e-07</td>\n",
              "      <td>-6.640622e-09</td>\n",
              "      <td>-4.502359e-07</td>\n",
              "      <td>2.061360e-07</td>\n",
              "      <td>1.152751e-07</td>\n",
              "      <td>4.441744e-07</td>\n",
              "      <td>7.309165e-08</td>\n",
              "      <td>-5.875483e-08</td>\n",
              "      <td>-1.204628e-07</td>\n",
              "      <td>1.133269e-07</td>\n",
              "      <td>1.979997e-07</td>\n",
              "      <td>-4.002713e-08</td>\n",
              "      <td>-6.928006e-08</td>\n",
              "      <td>3.225721e-08</td>\n",
              "      <td>-3.729608e-08</td>\n",
              "      <td>-3.529057e-09</td>\n",
              "      <td>3.982864e-08</td>\n",
              "      <td>-7.999112e-08</td>\n",
              "      <td>-8.889159e-09</td>\n",
              "      <td>1.980401e-08</td>\n",
              "      <td>-3.009316e-08</td>\n",
              "    </tr>\n",
              "  </tbody>\n",
              "</table>\n",
              "<p>5 rows × 620 columns</p>\n",
              "</div>"
            ],
            "text/plain": [
              "        0         1         2    ...           617           618           619\n",
              "0  0.097817  0.130165  0.069822  ... -1.279139e-08  1.840980e-08 -2.671326e-08\n",
              "1  0.079130  0.107703  0.013614  ... -5.382707e-09  1.842500e-08 -3.027882e-08\n",
              "2  0.088409  0.118777  0.089460  ... -1.037805e-08  2.075966e-08 -3.009659e-08\n",
              "3  0.089270  0.120594  0.047669  ... -7.413186e-09  1.996893e-08 -3.272369e-08\n",
              "4  0.578583  0.076831  0.016236  ... -8.889159e-09  1.980401e-08 -3.009316e-08\n",
              "\n",
              "[5 rows x 620 columns]"
            ]
          },
          "metadata": {
            "tags": []
          },
          "execution_count": 101
        }
      ]
    },
    {
      "cell_type": "code",
      "metadata": {
        "id": "OMO99_hsi5RI"
      },
      "source": [
        "data_reduced.to_csv(file_dir + \"pc\" + WAVELET + \".csv\", index=False)"
      ],
      "execution_count": 103,
      "outputs": []
    },
    {
      "cell_type": "code",
      "metadata": {
        "colab": {
          "base_uri": "https://localhost:8080/",
          "height": 36
        },
        "id": "k0PvmvQcoa_O",
        "outputId": "d1802b76-8e06-4c24-8264-ad876aaf3880"
      },
      "source": [
        "file_dir"
      ],
      "execution_count": 122,
      "outputs": [
        {
          "output_type": "execute_result",
          "data": {
            "application/vnd.google.colaboratory.intrinsic+json": {
              "type": "string"
            },
            "text/plain": [
              "'/content/drive/MyDrive/EEG-emotion-python/seed dataset/SEED/temp/analysis/'"
            ]
          },
          "metadata": {
            "tags": []
          },
          "execution_count": 122
        }
      ]
    },
    {
      "cell_type": "markdown",
      "metadata": {
        "id": "ZFm_Yb9JkjUZ"
      },
      "source": [
        "**Running data through classifiers**\r\n",
        "\r\n",
        "\r\n",
        "1.   SVM\r\n",
        "\r\n"
      ]
    },
    {
      "cell_type": "code",
      "metadata": {
        "id": "6CZIMZlvj4BQ"
      },
      "source": [
        "# Reading data and splitting \r\n",
        "pcs = pd.read_csv(file_dir + \"pc\" + WAVELET + \".csv\")\r\n",
        "outputs = pd.read_csv(file_dir + \"outputs_main.csv\", header=None)\r\n",
        "\r\n",
        "X = pcs.iloc[:, :].values\r\n",
        "Y = outputs.iloc[:, :].values\r\n",
        "\r\n",
        "X_train, X_test, Y_train, Y_test = train_test_split(X, Y, test_size = 0.2, random_state=42)"
      ],
      "execution_count": 124,
      "outputs": []
    },
    {
      "cell_type": "code",
      "metadata": {
        "colab": {
          "base_uri": "https://localhost:8080/"
        },
        "id": "uJRxucIelgU1",
        "outputId": "afc64dae-55c2-45ba-9105-6deadcd14333"
      },
      "source": [
        "svc = SVC()\r\n",
        "parameters = {\"C\": (100, 1e3, 1e4, 1e5, 1e6, 1e7, 1e8, 1e9), \"gamma\": (1e-08, 1e-7, 1e-6, 1e-5)}\r\n",
        "grid_search = GridSearchCV(svc, parameters, n_jobs=-1, cv=5)\r\n",
        "start_time = timeit.default_timer()\r\n",
        "grid_search.fit(X_train, Y_train)\r\n",
        "print(\"--- {0:.3f} seconds ---\".format(timeit.default_timer() - start_time))\r\n",
        "print(grid_search.best_params_)\r\n",
        "svc_best = grid_search.best_estimator_\r\n",
        "accuracy = svc_best.score(X_test, Y_test)\r\n",
        "print(\"Accuracy on the testing set is: {0:.1f}%\".format(accuracy*100))\r\n",
        "prediction = svc_best.predict(X_test)\r\n",
        "report = classification_report(Y_test, prediction)\r\n",
        "print(report)\r\n"
      ],
      "execution_count": 129,
      "outputs": [
        {
          "output_type": "stream",
          "text": [
            "/usr/local/lib/python3.6/dist-packages/sklearn/utils/validation.py:760: DataConversionWarning: A column-vector y was passed when a 1d array was expected. Please change the shape of y to (n_samples, ), for example using ravel().\n",
            "  y = column_or_1d(y, warn=True)\n"
          ],
          "name": "stderr"
        },
        {
          "output_type": "stream",
          "text": [
            "--- 22.287 seconds ---\n",
            "{'C': 10000000.0, 'gamma': 1e-05}\n",
            "Accuracy on the testing set is: 69.7%\n",
            "              precision    recall  f1-score   support\n",
            "\n",
            "          -1       0.59      0.59      0.59        44\n",
            "           0       0.59      0.56      0.57        41\n",
            "           1       0.88      0.91      0.90        47\n",
            "\n",
            "    accuracy                           0.70       132\n",
            "   macro avg       0.69      0.69      0.69       132\n",
            "weighted avg       0.69      0.70      0.69       132\n",
            "\n"
          ],
          "name": "stdout"
        }
      ]
    },
    {
      "cell_type": "code",
      "metadata": {
        "id": "cUt4ETQuoo5I"
      },
      "source": [
        ""
      ],
      "execution_count": null,
      "outputs": []
    }
  ]
}
